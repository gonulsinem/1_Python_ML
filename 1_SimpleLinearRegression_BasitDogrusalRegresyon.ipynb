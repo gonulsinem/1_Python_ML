{
  "nbformat": 4,
  "nbformat_minor": 0,
  "metadata": {
    "colab": {
      "name": "1_SimpleLinearRegression-BasitDogrusalRegresyon.ipynb",
      "provenance": [],
      "authorship_tag": "ABX9TyPZ+5rLpk6+fS1QoE8LnwAP",
      "include_colab_link": true
    },
    "kernelspec": {
      "name": "python3",
      "display_name": "Python 3"
    },
    "language_info": {
      "name": "python"
    }
  },
  "cells": [
    {
      "cell_type": "markdown",
      "metadata": {
        "id": "view-in-github",
        "colab_type": "text"
      },
      "source": [
        "<a href=\"https://colab.research.google.com/github/gonulsinem/1_Python_ML/blob/main/1_SimpleLinearRegression_BasitDogrusalRegresyon.ipynb\" target=\"_parent\"><img src=\"https://colab.research.google.com/assets/colab-badge.svg\" alt=\"Open In Colab\"/></a>"
      ]
    },
    {
      "cell_type": "code",
      "metadata": {
        "id": "Nfo9kI7TQRR7"
      },
      "source": [
        "BTK Akademi- Python ile Makine Öğrenmesi Kursu calismalari ve kendi tuttuğum notlardan olusmaktadir."
      ],
      "execution_count": null,
      "outputs": []
    },
    {
      "cell_type": "code",
      "metadata": {
        "id": "z_MdgKQFRjSs"
      },
      "source": [
        "#Kutuphaneler eklendi.\n",
        "# import libraries\n",
        "import numpy as np\n",
        "import pandas as pd\n",
        "import matplotlib.pyplot as plt"
      ],
      "execution_count": 2,
      "outputs": []
    },
    {
      "cell_type": "code",
      "metadata": {
        "colab": {
          "base_uri": "https://localhost:8080/"
        },
        "id": "YloKydhhKrHt",
        "outputId": "cf462567-f8b6-4fac-b5d8-efe29edbafca"
      },
      "source": [
        "# veri okundu, degiskene atandi\n",
        "data = pd.read_csv(\"/content/satislar.csv\")\n",
        "print(data)"
      ],
      "execution_count": 3,
      "outputs": [
        {
          "output_type": "stream",
          "text": [
            "    Aylar  Satislar\n",
            "0       8   19671.5\n",
            "1      10   23102.5\n",
            "2      11   18865.5\n",
            "3      13   21762.5\n",
            "4      14   19945.5\n",
            "5      19   28321.0\n",
            "6      19   30075.0\n",
            "7      20   27222.5\n",
            "8      20   32222.5\n",
            "9      24   28594.5\n",
            "10     25   31609.0\n",
            "11     25   27897.0\n",
            "12     25   28478.5\n",
            "13     26   28540.5\n",
            "14     29   30555.5\n",
            "15     31   33969.0\n",
            "16     32   33014.5\n",
            "17     34   41544.0\n",
            "18     37   40681.5\n",
            "19     37    4697.0\n",
            "20     42   45869.0\n",
            "21     44   49136.5\n",
            "22     49   50651.0\n",
            "23     50   56906.0\n",
            "24     54   54715.5\n",
            "25     55   52791.0\n",
            "26     59   58484.5\n",
            "27     59   56317.5\n",
            "28     64   61195.5\n",
            "29     65   60936.0\n"
          ],
          "name": "stdout"
        }
      ]
    },
    {
      "cell_type": "code",
      "metadata": {
        "colab": {
          "base_uri": "https://localhost:8080/",
          "height": 203
        },
        "id": "EU54zHtXLUyF",
        "outputId": "372d6499-d935-4973-a0dc-0d544197cebc"
      },
      "source": [
        "data.head()"
      ],
      "execution_count": 4,
      "outputs": [
        {
          "output_type": "execute_result",
          "data": {
            "text/html": [
              "<div>\n",
              "<style scoped>\n",
              "    .dataframe tbody tr th:only-of-type {\n",
              "        vertical-align: middle;\n",
              "    }\n",
              "\n",
              "    .dataframe tbody tr th {\n",
              "        vertical-align: top;\n",
              "    }\n",
              "\n",
              "    .dataframe thead th {\n",
              "        text-align: right;\n",
              "    }\n",
              "</style>\n",
              "<table border=\"1\" class=\"dataframe\">\n",
              "  <thead>\n",
              "    <tr style=\"text-align: right;\">\n",
              "      <th></th>\n",
              "      <th>Aylar</th>\n",
              "      <th>Satislar</th>\n",
              "    </tr>\n",
              "  </thead>\n",
              "  <tbody>\n",
              "    <tr>\n",
              "      <th>0</th>\n",
              "      <td>8</td>\n",
              "      <td>19671.5</td>\n",
              "    </tr>\n",
              "    <tr>\n",
              "      <th>1</th>\n",
              "      <td>10</td>\n",
              "      <td>23102.5</td>\n",
              "    </tr>\n",
              "    <tr>\n",
              "      <th>2</th>\n",
              "      <td>11</td>\n",
              "      <td>18865.5</td>\n",
              "    </tr>\n",
              "    <tr>\n",
              "      <th>3</th>\n",
              "      <td>13</td>\n",
              "      <td>21762.5</td>\n",
              "    </tr>\n",
              "    <tr>\n",
              "      <th>4</th>\n",
              "      <td>14</td>\n",
              "      <td>19945.5</td>\n",
              "    </tr>\n",
              "  </tbody>\n",
              "</table>\n",
              "</div>"
            ],
            "text/plain": [
              "   Aylar  Satislar\n",
              "0      8   19671.5\n",
              "1     10   23102.5\n",
              "2     11   18865.5\n",
              "3     13   21762.5\n",
              "4     14   19945.5"
            ]
          },
          "metadata": {
            "tags": []
          },
          "execution_count": 4
        }
      ]
    },
    {
      "cell_type": "code",
      "metadata": {
        "colab": {
          "base_uri": "https://localhost:8080/",
          "height": 749
        },
        "id": "iQWwFpQsLdeE",
        "outputId": "e8fa6233-16fd-408c-c0b8-3ffee44bf213"
      },
      "source": [
        "# Veri on isleme yapildi\n",
        "# Aylar ve Satislar kolonlari ayri dataframe'lere ayrildi\n",
        "\n",
        "aylar_df = data[[\"Aylar\"]]\n",
        "print(aylar_df)"
      ],
      "execution_count": 6,
      "outputs": [
        {
          "output_type": "stream",
          "text": [
            "    Aylar\n",
            "0       8\n",
            "1      10\n",
            "2      11\n",
            "3      13\n",
            "4      14\n",
            "5      19\n",
            "6      19\n",
            "7      20\n",
            "8      20\n",
            "9      24\n",
            "10     25\n",
            "11     25\n",
            "12     25\n",
            "13     26\n",
            "14     29\n",
            "15     31\n",
            "16     32\n",
            "17     34\n",
            "18     37\n",
            "19     37\n",
            "20     42\n",
            "21     44\n",
            "22     49\n",
            "23     50\n",
            "24     54\n",
            "25     55\n",
            "26     59\n",
            "27     59\n",
            "28     64\n",
            "29     65\n"
          ],
          "name": "stdout"
        },
        {
          "output_type": "execute_result",
          "data": {
            "text/html": [
              "<div>\n",
              "<style scoped>\n",
              "    .dataframe tbody tr th:only-of-type {\n",
              "        vertical-align: middle;\n",
              "    }\n",
              "\n",
              "    .dataframe tbody tr th {\n",
              "        vertical-align: top;\n",
              "    }\n",
              "\n",
              "    .dataframe thead th {\n",
              "        text-align: right;\n",
              "    }\n",
              "</style>\n",
              "<table border=\"1\" class=\"dataframe\">\n",
              "  <thead>\n",
              "    <tr style=\"text-align: right;\">\n",
              "      <th></th>\n",
              "      <th>Aylar</th>\n",
              "    </tr>\n",
              "  </thead>\n",
              "  <tbody>\n",
              "    <tr>\n",
              "      <th>0</th>\n",
              "      <td>8</td>\n",
              "    </tr>\n",
              "    <tr>\n",
              "      <th>1</th>\n",
              "      <td>10</td>\n",
              "    </tr>\n",
              "    <tr>\n",
              "      <th>2</th>\n",
              "      <td>11</td>\n",
              "    </tr>\n",
              "    <tr>\n",
              "      <th>3</th>\n",
              "      <td>13</td>\n",
              "    </tr>\n",
              "    <tr>\n",
              "      <th>4</th>\n",
              "      <td>14</td>\n",
              "    </tr>\n",
              "  </tbody>\n",
              "</table>\n",
              "</div>"
            ],
            "text/plain": [
              "   Aylar\n",
              "0      8\n",
              "1     10\n",
              "2     11\n",
              "3     13\n",
              "4     14"
            ]
          },
          "metadata": {
            "tags": []
          },
          "execution_count": 6
        }
      ]
    },
    {
      "cell_type": "code",
      "metadata": {
        "colab": {
          "base_uri": "https://localhost:8080/",
          "height": 203
        },
        "id": "HesBVmCTMAF9",
        "outputId": "06a2d449-763b-4000-f51f-4441a40ab245"
      },
      "source": [
        "aylar_df.head()"
      ],
      "execution_count": 8,
      "outputs": [
        {
          "output_type": "execute_result",
          "data": {
            "text/html": [
              "<div>\n",
              "<style scoped>\n",
              "    .dataframe tbody tr th:only-of-type {\n",
              "        vertical-align: middle;\n",
              "    }\n",
              "\n",
              "    .dataframe tbody tr th {\n",
              "        vertical-align: top;\n",
              "    }\n",
              "\n",
              "    .dataframe thead th {\n",
              "        text-align: right;\n",
              "    }\n",
              "</style>\n",
              "<table border=\"1\" class=\"dataframe\">\n",
              "  <thead>\n",
              "    <tr style=\"text-align: right;\">\n",
              "      <th></th>\n",
              "      <th>Aylar</th>\n",
              "    </tr>\n",
              "  </thead>\n",
              "  <tbody>\n",
              "    <tr>\n",
              "      <th>0</th>\n",
              "      <td>8</td>\n",
              "    </tr>\n",
              "    <tr>\n",
              "      <th>1</th>\n",
              "      <td>10</td>\n",
              "    </tr>\n",
              "    <tr>\n",
              "      <th>2</th>\n",
              "      <td>11</td>\n",
              "    </tr>\n",
              "    <tr>\n",
              "      <th>3</th>\n",
              "      <td>13</td>\n",
              "    </tr>\n",
              "    <tr>\n",
              "      <th>4</th>\n",
              "      <td>14</td>\n",
              "    </tr>\n",
              "  </tbody>\n",
              "</table>\n",
              "</div>"
            ],
            "text/plain": [
              "   Aylar\n",
              "0      8\n",
              "1     10\n",
              "2     11\n",
              "3     13\n",
              "4     14"
            ]
          },
          "metadata": {
            "tags": []
          },
          "execution_count": 8
        }
      ]
    },
    {
      "cell_type": "code",
      "metadata": {
        "colab": {
          "base_uri": "https://localhost:8080/"
        },
        "id": "u5R4eW-XLyMF",
        "outputId": "b25c28c1-7751-40a0-d705-b780c2c8290c"
      },
      "source": [
        "type(aylar_df)\n",
        "# tipini ogrenebiliriz"
      ],
      "execution_count": 7,
      "outputs": [
        {
          "output_type": "execute_result",
          "data": {
            "text/plain": [
              "pandas.core.frame.DataFrame"
            ]
          },
          "metadata": {
            "tags": []
          },
          "execution_count": 7
        }
      ]
    },
    {
      "cell_type": "code",
      "metadata": {
        "colab": {
          "base_uri": "https://localhost:8080/"
        },
        "id": "9c2n0exKL9HT",
        "outputId": "22249dfa-47f3-4861-c9ee-38e66abbbf16"
      },
      "source": [
        "satislar_df = data[[\"Satislar\"]]\n",
        "print(satislar_df)"
      ],
      "execution_count": 9,
      "outputs": [
        {
          "output_type": "stream",
          "text": [
            "    Satislar\n",
            "0    19671.5\n",
            "1    23102.5\n",
            "2    18865.5\n",
            "3    21762.5\n",
            "4    19945.5\n",
            "5    28321.0\n",
            "6    30075.0\n",
            "7    27222.5\n",
            "8    32222.5\n",
            "9    28594.5\n",
            "10   31609.0\n",
            "11   27897.0\n",
            "12   28478.5\n",
            "13   28540.5\n",
            "14   30555.5\n",
            "15   33969.0\n",
            "16   33014.5\n",
            "17   41544.0\n",
            "18   40681.5\n",
            "19    4697.0\n",
            "20   45869.0\n",
            "21   49136.5\n",
            "22   50651.0\n",
            "23   56906.0\n",
            "24   54715.5\n",
            "25   52791.0\n",
            "26   58484.5\n",
            "27   56317.5\n",
            "28   61195.5\n",
            "29   60936.0\n"
          ],
          "name": "stdout"
        }
      ]
    },
    {
      "cell_type": "code",
      "metadata": {
        "colab": {
          "base_uri": "https://localhost:8080/"
        },
        "id": "iFuEPBfWMGSs",
        "outputId": "f3bbdf4d-0a7e-4fc9-8f71-40d6d9c86286"
      },
      "source": [
        "satislar2 = data.iloc[:,-1]\n",
        "print(satislar2)\n",
        "# satislar kolonunu iloc kullanarak da alabiliriz."
      ],
      "execution_count": 14,
      "outputs": [
        {
          "output_type": "stream",
          "text": [
            "0     19671.5\n",
            "1     23102.5\n",
            "2     18865.5\n",
            "3     21762.5\n",
            "4     19945.5\n",
            "5     28321.0\n",
            "6     30075.0\n",
            "7     27222.5\n",
            "8     32222.5\n",
            "9     28594.5\n",
            "10    31609.0\n",
            "11    27897.0\n",
            "12    28478.5\n",
            "13    28540.5\n",
            "14    30555.5\n",
            "15    33969.0\n",
            "16    33014.5\n",
            "17    41544.0\n",
            "18    40681.5\n",
            "19     4697.0\n",
            "20    45869.0\n",
            "21    49136.5\n",
            "22    50651.0\n",
            "23    56906.0\n",
            "24    54715.5\n",
            "25    52791.0\n",
            "26    58484.5\n",
            "27    56317.5\n",
            "28    61195.5\n",
            "29    60936.0\n",
            "Name: Satislar, dtype: float64\n"
          ],
          "name": "stdout"
        }
      ]
    },
    {
      "cell_type": "code",
      "metadata": {
        "colab": {
          "base_uri": "https://localhost:8080/"
        },
        "id": "c5xyJDNCMRlr",
        "outputId": "f2553361-ec0c-4a87-cc03-3746bcee0d33"
      },
      "source": [
        "satislar3 = data.iloc[:,-1].values\n",
        "print(satislar3, \"\\n\")\n",
        "type(satislar3)\n",
        "# satislar kolonundaki degerleri alip numpy dizisinde tutabiliriz"
      ],
      "execution_count": 16,
      "outputs": [
        {
          "output_type": "stream",
          "text": [
            "[19671.5 23102.5 18865.5 21762.5 19945.5 28321.  30075.  27222.5 32222.5\n",
            " 28594.5 31609.  27897.  28478.5 28540.5 30555.5 33969.  33014.5 41544.\n",
            " 40681.5  4697.  45869.  49136.5 50651.  56906.  54715.5 52791.  58484.5\n",
            " 56317.5 61195.5 60936. ] \n",
            "\n"
          ],
          "name": "stdout"
        },
        {
          "output_type": "execute_result",
          "data": {
            "text/plain": [
              "numpy.ndarray"
            ]
          },
          "metadata": {
            "tags": []
          },
          "execution_count": 16
        }
      ]
    },
    {
      "cell_type": "code",
      "metadata": {
        "id": "rkieGCyIMqtv"
      },
      "source": [
        "# train ve test olarak veri setini parcalandi\n",
        "\n",
        "from sklearn.model_selection import train_test_split\n",
        "x_train, x_test, y_train, y_test = train_test_split(aylar_df, satislar_df, test_size = 0.33, random_state = 0)\n",
        "\n",
        "# veri setinin %33'ü test seti olarak ayarlandi"
      ],
      "execution_count": 17,
      "outputs": []
    },
    {
      "cell_type": "code",
      "metadata": {
        "colab": {
          "base_uri": "https://localhost:8080/",
          "height": 665
        },
        "id": "iuTKeBSINM_M",
        "outputId": "b501543d-8807-4541-85f5-cb57f2f1687b"
      },
      "source": [
        "x_train"
      ],
      "execution_count": 18,
      "outputs": [
        {
          "output_type": "execute_result",
          "data": {
            "text/html": [
              "<div>\n",
              "<style scoped>\n",
              "    .dataframe tbody tr th:only-of-type {\n",
              "        vertical-align: middle;\n",
              "    }\n",
              "\n",
              "    .dataframe tbody tr th {\n",
              "        vertical-align: top;\n",
              "    }\n",
              "\n",
              "    .dataframe thead th {\n",
              "        text-align: right;\n",
              "    }\n",
              "</style>\n",
              "<table border=\"1\" class=\"dataframe\">\n",
              "  <thead>\n",
              "    <tr style=\"text-align: right;\">\n",
              "      <th></th>\n",
              "      <th>Aylar</th>\n",
              "    </tr>\n",
              "  </thead>\n",
              "  <tbody>\n",
              "    <tr>\n",
              "      <th>5</th>\n",
              "      <td>19</td>\n",
              "    </tr>\n",
              "    <tr>\n",
              "      <th>16</th>\n",
              "      <td>32</td>\n",
              "    </tr>\n",
              "    <tr>\n",
              "      <th>8</th>\n",
              "      <td>20</td>\n",
              "    </tr>\n",
              "    <tr>\n",
              "      <th>14</th>\n",
              "      <td>29</td>\n",
              "    </tr>\n",
              "    <tr>\n",
              "      <th>23</th>\n",
              "      <td>50</td>\n",
              "    </tr>\n",
              "    <tr>\n",
              "      <th>20</th>\n",
              "      <td>42</td>\n",
              "    </tr>\n",
              "    <tr>\n",
              "      <th>1</th>\n",
              "      <td>10</td>\n",
              "    </tr>\n",
              "    <tr>\n",
              "      <th>29</th>\n",
              "      <td>65</td>\n",
              "    </tr>\n",
              "    <tr>\n",
              "      <th>6</th>\n",
              "      <td>19</td>\n",
              "    </tr>\n",
              "    <tr>\n",
              "      <th>4</th>\n",
              "      <td>14</td>\n",
              "    </tr>\n",
              "    <tr>\n",
              "      <th>18</th>\n",
              "      <td>37</td>\n",
              "    </tr>\n",
              "    <tr>\n",
              "      <th>19</th>\n",
              "      <td>37</td>\n",
              "    </tr>\n",
              "    <tr>\n",
              "      <th>9</th>\n",
              "      <td>24</td>\n",
              "    </tr>\n",
              "    <tr>\n",
              "      <th>7</th>\n",
              "      <td>20</td>\n",
              "    </tr>\n",
              "    <tr>\n",
              "      <th>25</th>\n",
              "      <td>55</td>\n",
              "    </tr>\n",
              "    <tr>\n",
              "      <th>3</th>\n",
              "      <td>13</td>\n",
              "    </tr>\n",
              "    <tr>\n",
              "      <th>0</th>\n",
              "      <td>8</td>\n",
              "    </tr>\n",
              "    <tr>\n",
              "      <th>21</th>\n",
              "      <td>44</td>\n",
              "    </tr>\n",
              "    <tr>\n",
              "      <th>15</th>\n",
              "      <td>31</td>\n",
              "    </tr>\n",
              "    <tr>\n",
              "      <th>12</th>\n",
              "      <td>25</td>\n",
              "    </tr>\n",
              "  </tbody>\n",
              "</table>\n",
              "</div>"
            ],
            "text/plain": [
              "    Aylar\n",
              "5      19\n",
              "16     32\n",
              "8      20\n",
              "14     29\n",
              "23     50\n",
              "20     42\n",
              "1      10\n",
              "29     65\n",
              "6      19\n",
              "4      14\n",
              "18     37\n",
              "19     37\n",
              "9      24\n",
              "7      20\n",
              "25     55\n",
              "3      13\n",
              "0       8\n",
              "21     44\n",
              "15     31\n",
              "12     25"
            ]
          },
          "metadata": {
            "tags": []
          },
          "execution_count": 18
        }
      ]
    },
    {
      "cell_type": "code",
      "metadata": {
        "colab": {
          "base_uri": "https://localhost:8080/",
          "height": 357
        },
        "id": "2u-UucufNQIB",
        "outputId": "fe923c65-fd71-43bf-9cda-ec0eb2e47e63"
      },
      "source": [
        "x_test"
      ],
      "execution_count": 19,
      "outputs": [
        {
          "output_type": "execute_result",
          "data": {
            "text/html": [
              "<div>\n",
              "<style scoped>\n",
              "    .dataframe tbody tr th:only-of-type {\n",
              "        vertical-align: middle;\n",
              "    }\n",
              "\n",
              "    .dataframe tbody tr th {\n",
              "        vertical-align: top;\n",
              "    }\n",
              "\n",
              "    .dataframe thead th {\n",
              "        text-align: right;\n",
              "    }\n",
              "</style>\n",
              "<table border=\"1\" class=\"dataframe\">\n",
              "  <thead>\n",
              "    <tr style=\"text-align: right;\">\n",
              "      <th></th>\n",
              "      <th>Aylar</th>\n",
              "    </tr>\n",
              "  </thead>\n",
              "  <tbody>\n",
              "    <tr>\n",
              "      <th>2</th>\n",
              "      <td>11</td>\n",
              "    </tr>\n",
              "    <tr>\n",
              "      <th>28</th>\n",
              "      <td>64</td>\n",
              "    </tr>\n",
              "    <tr>\n",
              "      <th>13</th>\n",
              "      <td>26</td>\n",
              "    </tr>\n",
              "    <tr>\n",
              "      <th>10</th>\n",
              "      <td>25</td>\n",
              "    </tr>\n",
              "    <tr>\n",
              "      <th>26</th>\n",
              "      <td>59</td>\n",
              "    </tr>\n",
              "    <tr>\n",
              "      <th>24</th>\n",
              "      <td>54</td>\n",
              "    </tr>\n",
              "    <tr>\n",
              "      <th>27</th>\n",
              "      <td>59</td>\n",
              "    </tr>\n",
              "    <tr>\n",
              "      <th>11</th>\n",
              "      <td>25</td>\n",
              "    </tr>\n",
              "    <tr>\n",
              "      <th>17</th>\n",
              "      <td>34</td>\n",
              "    </tr>\n",
              "    <tr>\n",
              "      <th>22</th>\n",
              "      <td>49</td>\n",
              "    </tr>\n",
              "  </tbody>\n",
              "</table>\n",
              "</div>"
            ],
            "text/plain": [
              "    Aylar\n",
              "2      11\n",
              "28     64\n",
              "13     26\n",
              "10     25\n",
              "26     59\n",
              "24     54\n",
              "27     59\n",
              "11     25\n",
              "17     34\n",
              "22     49"
            ]
          },
          "metadata": {
            "tags": []
          },
          "execution_count": 19
        }
      ]
    },
    {
      "cell_type": "code",
      "metadata": {
        "colab": {
          "base_uri": "https://localhost:8080/",
          "height": 665
        },
        "id": "8-VDu_sWNR71",
        "outputId": "63f9f90d-ac01-42ee-b972-3ef857f9861d"
      },
      "source": [
        "y_train"
      ],
      "execution_count": 20,
      "outputs": [
        {
          "output_type": "execute_result",
          "data": {
            "text/html": [
              "<div>\n",
              "<style scoped>\n",
              "    .dataframe tbody tr th:only-of-type {\n",
              "        vertical-align: middle;\n",
              "    }\n",
              "\n",
              "    .dataframe tbody tr th {\n",
              "        vertical-align: top;\n",
              "    }\n",
              "\n",
              "    .dataframe thead th {\n",
              "        text-align: right;\n",
              "    }\n",
              "</style>\n",
              "<table border=\"1\" class=\"dataframe\">\n",
              "  <thead>\n",
              "    <tr style=\"text-align: right;\">\n",
              "      <th></th>\n",
              "      <th>Satislar</th>\n",
              "    </tr>\n",
              "  </thead>\n",
              "  <tbody>\n",
              "    <tr>\n",
              "      <th>5</th>\n",
              "      <td>28321.0</td>\n",
              "    </tr>\n",
              "    <tr>\n",
              "      <th>16</th>\n",
              "      <td>33014.5</td>\n",
              "    </tr>\n",
              "    <tr>\n",
              "      <th>8</th>\n",
              "      <td>32222.5</td>\n",
              "    </tr>\n",
              "    <tr>\n",
              "      <th>14</th>\n",
              "      <td>30555.5</td>\n",
              "    </tr>\n",
              "    <tr>\n",
              "      <th>23</th>\n",
              "      <td>56906.0</td>\n",
              "    </tr>\n",
              "    <tr>\n",
              "      <th>20</th>\n",
              "      <td>45869.0</td>\n",
              "    </tr>\n",
              "    <tr>\n",
              "      <th>1</th>\n",
              "      <td>23102.5</td>\n",
              "    </tr>\n",
              "    <tr>\n",
              "      <th>29</th>\n",
              "      <td>60936.0</td>\n",
              "    </tr>\n",
              "    <tr>\n",
              "      <th>6</th>\n",
              "      <td>30075.0</td>\n",
              "    </tr>\n",
              "    <tr>\n",
              "      <th>4</th>\n",
              "      <td>19945.5</td>\n",
              "    </tr>\n",
              "    <tr>\n",
              "      <th>18</th>\n",
              "      <td>40681.5</td>\n",
              "    </tr>\n",
              "    <tr>\n",
              "      <th>19</th>\n",
              "      <td>4697.0</td>\n",
              "    </tr>\n",
              "    <tr>\n",
              "      <th>9</th>\n",
              "      <td>28594.5</td>\n",
              "    </tr>\n",
              "    <tr>\n",
              "      <th>7</th>\n",
              "      <td>27222.5</td>\n",
              "    </tr>\n",
              "    <tr>\n",
              "      <th>25</th>\n",
              "      <td>52791.0</td>\n",
              "    </tr>\n",
              "    <tr>\n",
              "      <th>3</th>\n",
              "      <td>21762.5</td>\n",
              "    </tr>\n",
              "    <tr>\n",
              "      <th>0</th>\n",
              "      <td>19671.5</td>\n",
              "    </tr>\n",
              "    <tr>\n",
              "      <th>21</th>\n",
              "      <td>49136.5</td>\n",
              "    </tr>\n",
              "    <tr>\n",
              "      <th>15</th>\n",
              "      <td>33969.0</td>\n",
              "    </tr>\n",
              "    <tr>\n",
              "      <th>12</th>\n",
              "      <td>28478.5</td>\n",
              "    </tr>\n",
              "  </tbody>\n",
              "</table>\n",
              "</div>"
            ],
            "text/plain": [
              "    Satislar\n",
              "5    28321.0\n",
              "16   33014.5\n",
              "8    32222.5\n",
              "14   30555.5\n",
              "23   56906.0\n",
              "20   45869.0\n",
              "1    23102.5\n",
              "29   60936.0\n",
              "6    30075.0\n",
              "4    19945.5\n",
              "18   40681.5\n",
              "19    4697.0\n",
              "9    28594.5\n",
              "7    27222.5\n",
              "25   52791.0\n",
              "3    21762.5\n",
              "0    19671.5\n",
              "21   49136.5\n",
              "15   33969.0\n",
              "12   28478.5"
            ]
          },
          "metadata": {
            "tags": []
          },
          "execution_count": 20
        }
      ]
    },
    {
      "cell_type": "code",
      "metadata": {
        "colab": {
          "base_uri": "https://localhost:8080/",
          "height": 357
        },
        "id": "I0beV50ONTKU",
        "outputId": "9962fa45-6694-40a7-dd9d-b458d357c54b"
      },
      "source": [
        "y_test"
      ],
      "execution_count": 21,
      "outputs": [
        {
          "output_type": "execute_result",
          "data": {
            "text/html": [
              "<div>\n",
              "<style scoped>\n",
              "    .dataframe tbody tr th:only-of-type {\n",
              "        vertical-align: middle;\n",
              "    }\n",
              "\n",
              "    .dataframe tbody tr th {\n",
              "        vertical-align: top;\n",
              "    }\n",
              "\n",
              "    .dataframe thead th {\n",
              "        text-align: right;\n",
              "    }\n",
              "</style>\n",
              "<table border=\"1\" class=\"dataframe\">\n",
              "  <thead>\n",
              "    <tr style=\"text-align: right;\">\n",
              "      <th></th>\n",
              "      <th>Satislar</th>\n",
              "    </tr>\n",
              "  </thead>\n",
              "  <tbody>\n",
              "    <tr>\n",
              "      <th>2</th>\n",
              "      <td>18865.5</td>\n",
              "    </tr>\n",
              "    <tr>\n",
              "      <th>28</th>\n",
              "      <td>61195.5</td>\n",
              "    </tr>\n",
              "    <tr>\n",
              "      <th>13</th>\n",
              "      <td>28540.5</td>\n",
              "    </tr>\n",
              "    <tr>\n",
              "      <th>10</th>\n",
              "      <td>31609.0</td>\n",
              "    </tr>\n",
              "    <tr>\n",
              "      <th>26</th>\n",
              "      <td>58484.5</td>\n",
              "    </tr>\n",
              "    <tr>\n",
              "      <th>24</th>\n",
              "      <td>54715.5</td>\n",
              "    </tr>\n",
              "    <tr>\n",
              "      <th>27</th>\n",
              "      <td>56317.5</td>\n",
              "    </tr>\n",
              "    <tr>\n",
              "      <th>11</th>\n",
              "      <td>27897.0</td>\n",
              "    </tr>\n",
              "    <tr>\n",
              "      <th>17</th>\n",
              "      <td>41544.0</td>\n",
              "    </tr>\n",
              "    <tr>\n",
              "      <th>22</th>\n",
              "      <td>50651.0</td>\n",
              "    </tr>\n",
              "  </tbody>\n",
              "</table>\n",
              "</div>"
            ],
            "text/plain": [
              "    Satislar\n",
              "2    18865.5\n",
              "28   61195.5\n",
              "13   28540.5\n",
              "10   31609.0\n",
              "26   58484.5\n",
              "24   54715.5\n",
              "27   56317.5\n",
              "11   27897.0\n",
              "17   41544.0\n",
              "22   50651.0"
            ]
          },
          "metadata": {
            "tags": []
          },
          "execution_count": 21
        }
      ]
    },
    {
      "cell_type": "code",
      "metadata": {
        "id": "JPME3ZEVNUJu"
      },
      "source": [
        "from sklearn.preprocessing import StandardScaler"
      ],
      "execution_count": 22,
      "outputs": []
    },
    {
      "cell_type": "code",
      "metadata": {
        "id": "fl_7Cr12Nau6"
      },
      "source": [
        "sc = StandardScaler()\n",
        "#veri standartlastirildi"
      ],
      "execution_count": 23,
      "outputs": []
    },
    {
      "cell_type": "code",
      "metadata": {
        "colab": {
          "base_uri": "https://localhost:8080/"
        },
        "id": "YW4Z5EuqNdea",
        "outputId": "676d96f6-2456-408d-93c2-a111463a09f0"
      },
      "source": [
        "X_train = sc.fit_transform(x_train)\n",
        "print(X_train)"
      ],
      "execution_count": 24,
      "outputs": [
        {
          "output_type": "stream",
          "text": [
            "[[-0.70368853]\n",
            " [ 0.15126015]\n",
            " [-0.63792324]\n",
            " [-0.0460357 ]\n",
            " [ 1.33503524]\n",
            " [ 0.80891298]\n",
            " [-1.29557607]\n",
            " [ 2.32151449]\n",
            " [-0.70368853]\n",
            " [-1.03251494]\n",
            " [ 0.48008657]\n",
            " [ 0.48008657]\n",
            " [-0.37486211]\n",
            " [-0.63792324]\n",
            " [ 1.66386166]\n",
            " [-1.09828023]\n",
            " [-1.42710664]\n",
            " [ 0.94044355]\n",
            " [ 0.08549487]\n",
            " [-0.30909683]]\n"
          ],
          "name": "stdout"
        }
      ]
    },
    {
      "cell_type": "code",
      "metadata": {
        "colab": {
          "base_uri": "https://localhost:8080/"
        },
        "id": "1CCQnWsbNqlY",
        "outputId": "e0b37a3e-7a7f-4207-8c05-f0c3377d3c61"
      },
      "source": [
        "X_test = sc.fit_transform(x_test)\n",
        "print(X_test)"
      ],
      "execution_count": 25,
      "outputs": [
        {
          "output_type": "stream",
          "text": [
            "[[-1.68268756]\n",
            " [ 1.33023274]\n",
            " [-0.82997427]\n",
            " [-0.88682182]\n",
            " [ 1.04599497]\n",
            " [ 0.76175721]\n",
            " [ 1.04599497]\n",
            " [-0.88682182]\n",
            " [-0.37519385]\n",
            " [ 0.47751944]]\n"
          ],
          "name": "stdout"
        }
      ]
    },
    {
      "cell_type": "code",
      "metadata": {
        "colab": {
          "base_uri": "https://localhost:8080/"
        },
        "id": "-X0ESe9gNuaB",
        "outputId": "39052b1b-d4ea-4d27-b41f-88bcb5cf15e3"
      },
      "source": [
        "Y_train  = sc.fit_transform(y_train)\n",
        "print(Y_train)"
      ],
      "execution_count": 26,
      "outputs": [
        {
          "output_type": "stream",
          "text": [
            "[[-0.37273507]\n",
            " [-0.02812804]\n",
            " [-0.08627841]\n",
            " [-0.20867319]\n",
            " [ 1.72603811]\n",
            " [ 0.91567744]\n",
            " [-0.75588874]\n",
            " [ 2.02192951]\n",
            " [-0.24395255]\n",
            " [-0.98768258]\n",
            " [ 0.53479986]\n",
            " [-2.10726078]\n",
            " [-0.3526541 ]\n",
            " [-0.45338934]\n",
            " [ 1.42390581]\n",
            " [-0.85427447]\n",
            " [-1.00780026]\n",
            " [ 1.15558444]\n",
            " [ 0.04195344]\n",
            " [-0.36117107]]\n"
          ],
          "name": "stdout"
        }
      ]
    },
    {
      "cell_type": "code",
      "metadata": {
        "colab": {
          "base_uri": "https://localhost:8080/"
        },
        "id": "H8K8wwfCN0Dl",
        "outputId": "865b981b-c6d1-4ea4-b5c8-ab625e242901"
      },
      "source": [
        "Y_test = sc.fit_transform(y_test)\n",
        "print(Y_test)"
      ],
      "execution_count": 28,
      "outputs": [
        {
          "output_type": "stream",
          "text": [
            "[[-1.66597621]\n",
            " [ 1.25819492]\n",
            " [-0.99762385]\n",
            " [-0.7856508 ]\n",
            " [ 1.0709181 ]\n",
            " [ 0.81055426]\n",
            " [ 0.92122098]\n",
            " [-1.04207705]\n",
            " [-0.09933754]\n",
            " [ 0.52977719]]\n"
          ],
          "name": "stdout"
        }
      ]
    },
    {
      "cell_type": "code",
      "metadata": {
        "id": "Bk4fX6g2N3I7"
      },
      "source": [
        "# modeli insa ederken;\n",
        "from sklearn.linear_model import LinearRegression"
      ],
      "execution_count": 29,
      "outputs": []
    },
    {
      "cell_type": "code",
      "metadata": {
        "colab": {
          "base_uri": "https://localhost:8080/"
        },
        "id": "FSH-t24fOBaO",
        "outputId": "3df7fcab-d177-4cf6-aee6-34dfe82f0562"
      },
      "source": [
        "lr = LinearRegression()\n",
        "lr.fit(X_train, Y_train)"
      ],
      "execution_count": 30,
      "outputs": [
        {
          "output_type": "execute_result",
          "data": {
            "text/plain": [
              "LinearRegression(copy_X=True, fit_intercept=True, n_jobs=None, normalize=False)"
            ]
          },
          "metadata": {
            "tags": []
          },
          "execution_count": 30
        }
      ]
    },
    {
      "cell_type": "code",
      "metadata": {
        "colab": {
          "base_uri": "https://localhost:8080/"
        },
        "id": "GkkEdpV9OI40",
        "outputId": "1290b46a-1c6a-4ebe-fffc-271003611036"
      },
      "source": [
        "tahmin1 = lr.predict(X_test)\n",
        "print(\"Tahmin1:\\n\", tahmin1)\n",
        "print(\"X_train:\\n\", Y_test)"
      ],
      "execution_count": 36,
      "outputs": [
        {
          "output_type": "stream",
          "text": [
            "Tahmin1:\n",
            " [[-1.33324088]\n",
            " [ 1.05398097]\n",
            " [-0.65761206]\n",
            " [-0.70265398]\n",
            " [ 0.82877136]\n",
            " [ 0.60356175]\n",
            " [ 0.82877136]\n",
            " [-0.70265398]\n",
            " [-0.29727668]\n",
            " [ 0.37835214]]\n",
            "X_train:\n",
            " [[-1.66597621]\n",
            " [ 1.25819492]\n",
            " [-0.99762385]\n",
            " [-0.7856508 ]\n",
            " [ 1.0709181 ]\n",
            " [ 0.81055426]\n",
            " [ 0.92122098]\n",
            " [-1.04207705]\n",
            " [-0.09933754]\n",
            " [ 0.52977719]]\n"
          ],
          "name": "stdout"
        }
      ]
    },
    {
      "cell_type": "code",
      "metadata": {
        "colab": {
          "base_uri": "https://localhost:8080/"
        },
        "id": "bqvVbw0KOO_C",
        "outputId": "cdcea4f4-8bc9-4bed-c64f-56729cd14297"
      },
      "source": [
        "# standartlastirma yapmadan egitim yapildiginda;\n",
        "lr = LinearRegression()\n",
        "lr.fit(x_train, y_train)\n",
        "tahmin = lr.predict(x_test)\n",
        "print(tahmin)"
      ],
      "execution_count": 43,
      "outputs": [
        {
          "output_type": "stream",
          "text": [
            "[[20126.21865404]\n",
            " [57740.29412655]\n",
            " [30771.7117123 ]\n",
            " [30062.01217508]\n",
            " [54191.79644047]\n",
            " [50643.29875438]\n",
            " [54191.79644047]\n",
            " [30062.01217508]\n",
            " [36449.30801003]\n",
            " [47094.80106829]]\n"
          ],
          "name": "stdout"
        }
      ]
    },
    {
      "cell_type": "code",
      "metadata": {
        "colab": {
          "base_uri": "https://localhost:8080/",
          "height": 357
        },
        "id": "aPRrlOPvO71w",
        "outputId": "f0c3cae4-2f77-4d22-dde0-8cde6dd53581"
      },
      "source": [
        "y_test"
      ],
      "execution_count": 41,
      "outputs": [
        {
          "output_type": "execute_result",
          "data": {
            "text/html": [
              "<div>\n",
              "<style scoped>\n",
              "    .dataframe tbody tr th:only-of-type {\n",
              "        vertical-align: middle;\n",
              "    }\n",
              "\n",
              "    .dataframe tbody tr th {\n",
              "        vertical-align: top;\n",
              "    }\n",
              "\n",
              "    .dataframe thead th {\n",
              "        text-align: right;\n",
              "    }\n",
              "</style>\n",
              "<table border=\"1\" class=\"dataframe\">\n",
              "  <thead>\n",
              "    <tr style=\"text-align: right;\">\n",
              "      <th></th>\n",
              "      <th>Satislar</th>\n",
              "    </tr>\n",
              "  </thead>\n",
              "  <tbody>\n",
              "    <tr>\n",
              "      <th>2</th>\n",
              "      <td>18865.5</td>\n",
              "    </tr>\n",
              "    <tr>\n",
              "      <th>28</th>\n",
              "      <td>61195.5</td>\n",
              "    </tr>\n",
              "    <tr>\n",
              "      <th>13</th>\n",
              "      <td>28540.5</td>\n",
              "    </tr>\n",
              "    <tr>\n",
              "      <th>10</th>\n",
              "      <td>31609.0</td>\n",
              "    </tr>\n",
              "    <tr>\n",
              "      <th>26</th>\n",
              "      <td>58484.5</td>\n",
              "    </tr>\n",
              "    <tr>\n",
              "      <th>24</th>\n",
              "      <td>54715.5</td>\n",
              "    </tr>\n",
              "    <tr>\n",
              "      <th>27</th>\n",
              "      <td>56317.5</td>\n",
              "    </tr>\n",
              "    <tr>\n",
              "      <th>11</th>\n",
              "      <td>27897.0</td>\n",
              "    </tr>\n",
              "    <tr>\n",
              "      <th>17</th>\n",
              "      <td>41544.0</td>\n",
              "    </tr>\n",
              "    <tr>\n",
              "      <th>22</th>\n",
              "      <td>50651.0</td>\n",
              "    </tr>\n",
              "  </tbody>\n",
              "</table>\n",
              "</div>"
            ],
            "text/plain": [
              "    Satislar\n",
              "2    18865.5\n",
              "28   61195.5\n",
              "13   28540.5\n",
              "10   31609.0\n",
              "26   58484.5\n",
              "24   54715.5\n",
              "27   56317.5\n",
              "11   27897.0\n",
              "17   41544.0\n",
              "22   50651.0"
            ]
          },
          "metadata": {
            "tags": []
          },
          "execution_count": 41
        }
      ]
    },
    {
      "cell_type": "code",
      "metadata": {
        "id": "VVSaUxeDO-Pp"
      },
      "source": [
        "# sirali olmasini saglamak icin;\n",
        "x_train = x_train.sort_index()\n",
        "y_train = y_train.sort_index()"
      ],
      "execution_count": 45,
      "outputs": []
    },
    {
      "cell_type": "code",
      "metadata": {
        "colab": {
          "base_uri": "https://localhost:8080/",
          "height": 313
        },
        "id": "1qn6iOqgPdgy",
        "outputId": "6e041db2-0778-4cc7-a9ea-5996d89dc4a1"
      },
      "source": [
        "#grafiklerini okumak icin; \n",
        "plt.plot(x_train,y_train)\n",
        "plt.plot(x_test, lr.predict(x_test))\n",
        "plt.title(\"Aylara gore satis\")\n",
        "plt.xlabel(\"Aylar\")\n",
        "plt.ylabel(\"Satislar\")"
      ],
      "execution_count": 46,
      "outputs": [
        {
          "output_type": "execute_result",
          "data": {
            "text/plain": [
              "Text(0, 0.5, 'Satislar')"
            ]
          },
          "metadata": {
            "tags": []
          },
          "execution_count": 46
        },
        {
          "output_type": "display_data",
          "data": {
            "image/png": "[encoded data removed]",
            "text/plain": [
              "<Figure size 432x288 with 1 Axes>"
            ]
          },
          "metadata": {
            "tags": [],
            "needs_background": "light"
          }
        }
      ]
    }
  ]
}