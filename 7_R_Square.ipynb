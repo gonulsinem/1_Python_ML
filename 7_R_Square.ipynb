{
  "nbformat": 4,
  "nbformat_minor": 0,
  "metadata": {
    "colab": {
      "name": "7_R-Square.ipynb",
      "provenance": [],
      "authorship_tag": "ABX9TyPgjTpryAgPW9hRHOy2XdUI",
      "include_colab_link": true
    },
    "kernelspec": {
      "name": "python3",
      "display_name": "Python 3"
    },
    "language_info": {
      "name": "python"
    }
  },
  "cells": [
    {
      "cell_type": "markdown",
      "metadata": {
        "id": "view-in-github",
        "colab_type": "text"
      },
      "source": [
        "<a href=\"https://colab.research.google.com/github/gonulsinem/1_Python_ML/blob/main/7_R_Square.ipynb\" target=\"_parent\"><img src=\"https://colab.research.google.com/assets/colab-badge.svg\" alt=\"Open In Colab\"/></a>"
      ]
    },
    {
      "cell_type": "markdown",
      "metadata": {
        "id": "j-6JmV5xYIqk"
      },
      "source": [
        "\n",
        "BTK Akademi- Python ile Makine Öğrenmesi Kursu calismalari ve kendi tuttuğum \n",
        "\n",
        "*   Liste öğesi\n",
        "*   Liste öğesi\n",
        "\n",
        "notlardan olusmaktadir.\n",
        "\n",
        "Kursta verilen maaslar.csv veri seti kullanildi\n",
        "BTK Akademi- Python ile Makine Öğrenmesi Kursu calismalari ve kendi tuttuğum\n",
        "\n",
        "Liste öğesi\n",
        "Liste öğesi\n",
        "notlardan olusmaktadir.\n",
        "\n",
        "Kursta verilen maaslar.csv veri seti kullanildi"
      ]
    },
    {
      "cell_type": "markdown",
      "metadata": {
        "id": "QXVU-kGfH6kH"
      },
      "source": [
        "## R-Square\n",
        "\n",
        "1.   Hata Kareleri toplamı\n",
        "2.   Ortalama Farkların toplamı\n",
        "3.   0-> en kötü algoritmanın cikardigi durum, 2-> en iyi algortmanin cikardigi durum\n",
        "4.   R Square 0-1 arasinda olabilir\n",
        "5.   Tahmin algoritmasinin basarisini olcebilecegimiz sayisal bir deger verir.\n",
        "\n",
        "## Duzeltilmis R-Square yontemi- (Adjusted R-Square)\n",
        "\n",
        "\n",
        "\n",
        "*   R-Square ne kadar butukse tahmin o kadar dogrudur. \n",
        "*   R-Square modelin ne kadaar gelistigini gormemizi engelleyebilir.\n",
        "*   Eklenen yeni degisken R-Square degerini azaltmaz.\n",
        "*   Degiskenlerin sisteme etkisini ogrenip ondan sonra degiskeni almaliyiz.\n",
        "*   Olumlu etkisi varsa hata azalir, R-Square degeri artar.\n",
        "*   Kac eleman, kac deger \n",
        "\n",
        "\n",
        "\n",
        "> Gercek ve tahmin degerleri\n",
        "\n",
        "\n",
        "\n",
        "\n"
      ]
    },
    {
      "cell_type": "code",
      "metadata": {
        "id": "fdtRCvE7Hye-"
      },
      "source": [
        "#kutuphanaler import edildi.\n",
        "import numpy as np\n",
        "import pandas as pd\n",
        "import matplotlib.pyplot as plt"
      ],
      "execution_count": 2,
      "outputs": []
    },
    {
      "cell_type": "code",
      "metadata": {
        "colab": {
          "base_uri": "https://localhost:8080/",
          "height": 358
        },
        "id": "hGy8mWoWTQeG",
        "outputId": "a0a2fa37-01f3-42bf-cb0f-c6578444f21c"
      },
      "source": [
        "data = pd.read_csv('/content/maaslar.csv')\n",
        "data"
      ],
      "execution_count": 4,
      "outputs": [
        {
          "output_type": "execute_result",
          "data": {
            "text/html": [
              "<div>\n",
              "<style scoped>\n",
              "    .dataframe tbody tr th:only-of-type {\n",
              "        vertical-align: middle;\n",
              "    }\n",
              "\n",
              "    .dataframe tbody tr th {\n",
              "        vertical-align: top;\n",
              "    }\n",
              "\n",
              "    .dataframe thead th {\n",
              "        text-align: right;\n",
              "    }\n",
              "</style>\n",
              "<table border=\"1\" class=\"dataframe\">\n",
              "  <thead>\n",
              "    <tr style=\"text-align: right;\">\n",
              "      <th></th>\n",
              "      <th>unvan</th>\n",
              "      <th>Egitim Seviyesi</th>\n",
              "      <th>maas</th>\n",
              "    </tr>\n",
              "  </thead>\n",
              "  <tbody>\n",
              "    <tr>\n",
              "      <th>0</th>\n",
              "      <td>Cayci</td>\n",
              "      <td>1</td>\n",
              "      <td>2250</td>\n",
              "    </tr>\n",
              "    <tr>\n",
              "      <th>1</th>\n",
              "      <td>Sekreter</td>\n",
              "      <td>2</td>\n",
              "      <td>2500</td>\n",
              "    </tr>\n",
              "    <tr>\n",
              "      <th>2</th>\n",
              "      <td>Uzman Yardimcisi</td>\n",
              "      <td>3</td>\n",
              "      <td>3000</td>\n",
              "    </tr>\n",
              "    <tr>\n",
              "      <th>3</th>\n",
              "      <td>Uzman</td>\n",
              "      <td>4</td>\n",
              "      <td>4000</td>\n",
              "    </tr>\n",
              "    <tr>\n",
              "      <th>4</th>\n",
              "      <td>Proje Yoneticisi</td>\n",
              "      <td>5</td>\n",
              "      <td>5500</td>\n",
              "    </tr>\n",
              "    <tr>\n",
              "      <th>5</th>\n",
              "      <td>Sef</td>\n",
              "      <td>6</td>\n",
              "      <td>7500</td>\n",
              "    </tr>\n",
              "    <tr>\n",
              "      <th>6</th>\n",
              "      <td>Mudur</td>\n",
              "      <td>7</td>\n",
              "      <td>10000</td>\n",
              "    </tr>\n",
              "    <tr>\n",
              "      <th>7</th>\n",
              "      <td>Direktor</td>\n",
              "      <td>8</td>\n",
              "      <td>15000</td>\n",
              "    </tr>\n",
              "    <tr>\n",
              "      <th>8</th>\n",
              "      <td>C-level</td>\n",
              "      <td>9</td>\n",
              "      <td>25000</td>\n",
              "    </tr>\n",
              "    <tr>\n",
              "      <th>9</th>\n",
              "      <td>CEO</td>\n",
              "      <td>10</td>\n",
              "      <td>50000</td>\n",
              "    </tr>\n",
              "  </tbody>\n",
              "</table>\n",
              "</div>"
            ],
            "text/plain": [
              "              unvan  Egitim Seviyesi   maas\n",
              "0             Cayci                1   2250\n",
              "1          Sekreter                2   2500\n",
              "2  Uzman Yardimcisi                3   3000\n",
              "3             Uzman                4   4000\n",
              "4  Proje Yoneticisi                5   5500\n",
              "5               Sef                6   7500\n",
              "6             Mudur                7  10000\n",
              "7          Direktor                8  15000\n",
              "8           C-level                9  25000\n",
              "9               CEO               10  50000"
            ]
          },
          "metadata": {},
          "execution_count": 4
        }
      ]
    },
    {
      "cell_type": "code",
      "metadata": {
        "colab": {
          "base_uri": "https://localhost:8080/",
          "height": 358
        },
        "id": "cw24qXHeTV2y",
        "outputId": "caa9a0f8-fad8-463a-eb38-fef2fdb6358a"
      },
      "source": [
        "x = data.iloc[:,1:2]\n",
        "X = x.values\n",
        "x"
      ],
      "execution_count": 7,
      "outputs": [
        {
          "output_type": "execute_result",
          "data": {
            "text/html": [
              "<div>\n",
              "<style scoped>\n",
              "    .dataframe tbody tr th:only-of-type {\n",
              "        vertical-align: middle;\n",
              "    }\n",
              "\n",
              "    .dataframe tbody tr th {\n",
              "        vertical-align: top;\n",
              "    }\n",
              "\n",
              "    .dataframe thead th {\n",
              "        text-align: right;\n",
              "    }\n",
              "</style>\n",
              "<table border=\"1\" class=\"dataframe\">\n",
              "  <thead>\n",
              "    <tr style=\"text-align: right;\">\n",
              "      <th></th>\n",
              "      <th>Egitim Seviyesi</th>\n",
              "    </tr>\n",
              "  </thead>\n",
              "  <tbody>\n",
              "    <tr>\n",
              "      <th>0</th>\n",
              "      <td>1</td>\n",
              "    </tr>\n",
              "    <tr>\n",
              "      <th>1</th>\n",
              "      <td>2</td>\n",
              "    </tr>\n",
              "    <tr>\n",
              "      <th>2</th>\n",
              "      <td>3</td>\n",
              "    </tr>\n",
              "    <tr>\n",
              "      <th>3</th>\n",
              "      <td>4</td>\n",
              "    </tr>\n",
              "    <tr>\n",
              "      <th>4</th>\n",
              "      <td>5</td>\n",
              "    </tr>\n",
              "    <tr>\n",
              "      <th>5</th>\n",
              "      <td>6</td>\n",
              "    </tr>\n",
              "    <tr>\n",
              "      <th>6</th>\n",
              "      <td>7</td>\n",
              "    </tr>\n",
              "    <tr>\n",
              "      <th>7</th>\n",
              "      <td>8</td>\n",
              "    </tr>\n",
              "    <tr>\n",
              "      <th>8</th>\n",
              "      <td>9</td>\n",
              "    </tr>\n",
              "    <tr>\n",
              "      <th>9</th>\n",
              "      <td>10</td>\n",
              "    </tr>\n",
              "  </tbody>\n",
              "</table>\n",
              "</div>"
            ],
            "text/plain": [
              "   Egitim Seviyesi\n",
              "0                1\n",
              "1                2\n",
              "2                3\n",
              "3                4\n",
              "4                5\n",
              "5                6\n",
              "6                7\n",
              "7                8\n",
              "8                9\n",
              "9               10"
            ]
          },
          "metadata": {},
          "execution_count": 7
        }
      ]
    },
    {
      "cell_type": "code",
      "metadata": {
        "colab": {
          "base_uri": "https://localhost:8080/",
          "height": 358
        },
        "id": "55t0U1ReTjI4",
        "outputId": "7cf12869-aceb-47cb-9540-62ef002ae99c"
      },
      "source": [
        "y = data.iloc[:,-1:]\n",
        "Y = y.values\n",
        "y"
      ],
      "execution_count": 8,
      "outputs": [
        {
          "output_type": "execute_result",
          "data": {
            "text/html": [
              "<div>\n",
              "<style scoped>\n",
              "    .dataframe tbody tr th:only-of-type {\n",
              "        vertical-align: middle;\n",
              "    }\n",
              "\n",
              "    .dataframe tbody tr th {\n",
              "        vertical-align: top;\n",
              "    }\n",
              "\n",
              "    .dataframe thead th {\n",
              "        text-align: right;\n",
              "    }\n",
              "</style>\n",
              "<table border=\"1\" class=\"dataframe\">\n",
              "  <thead>\n",
              "    <tr style=\"text-align: right;\">\n",
              "      <th></th>\n",
              "      <th>maas</th>\n",
              "    </tr>\n",
              "  </thead>\n",
              "  <tbody>\n",
              "    <tr>\n",
              "      <th>0</th>\n",
              "      <td>2250</td>\n",
              "    </tr>\n",
              "    <tr>\n",
              "      <th>1</th>\n",
              "      <td>2500</td>\n",
              "    </tr>\n",
              "    <tr>\n",
              "      <th>2</th>\n",
              "      <td>3000</td>\n",
              "    </tr>\n",
              "    <tr>\n",
              "      <th>3</th>\n",
              "      <td>4000</td>\n",
              "    </tr>\n",
              "    <tr>\n",
              "      <th>4</th>\n",
              "      <td>5500</td>\n",
              "    </tr>\n",
              "    <tr>\n",
              "      <th>5</th>\n",
              "      <td>7500</td>\n",
              "    </tr>\n",
              "    <tr>\n",
              "      <th>6</th>\n",
              "      <td>10000</td>\n",
              "    </tr>\n",
              "    <tr>\n",
              "      <th>7</th>\n",
              "      <td>15000</td>\n",
              "    </tr>\n",
              "    <tr>\n",
              "      <th>8</th>\n",
              "      <td>25000</td>\n",
              "    </tr>\n",
              "    <tr>\n",
              "      <th>9</th>\n",
              "      <td>50000</td>\n",
              "    </tr>\n",
              "  </tbody>\n",
              "</table>\n",
              "</div>"
            ],
            "text/plain": [
              "    maas\n",
              "0   2250\n",
              "1   2500\n",
              "2   3000\n",
              "3   4000\n",
              "4   5500\n",
              "5   7500\n",
              "6  10000\n",
              "7  15000\n",
              "8  25000\n",
              "9  50000"
            ]
          },
          "metadata": {},
          "execution_count": 8
        }
      ]
    },
    {
      "cell_type": "code",
      "metadata": {
        "colab": {
          "base_uri": "https://localhost:8080/",
          "height": 283
        },
        "id": "EZoId9wuTrA6",
        "outputId": "0a5d1fc5-bd73-4627-84b6-aae7bf245210"
      },
      "source": [
        "#Lineer Regresyon\n",
        "from sklearn.linear_model import LinearRegression\n",
        "lin_reg = LinearRegression()\n",
        "lin_reg.fit(X,Y)\n",
        "\n",
        "plt.scatter(X,Y)\n",
        "plt.plot(X, lin_reg.predict(X), color = 'red')"
      ],
      "execution_count": 9,
      "outputs": [
        {
          "output_type": "execute_result",
          "data": {
            "text/plain": [
              "[<matplotlib.lines.Line2D at 0x7fae95b9fdd0>]"
            ]
          },
          "metadata": {},
          "execution_count": 9
        },
        {
          "output_type": "display_data",
          "data": {
            "image/png": "[encoded data removed]",
            "text/plain": [
              "<Figure size 432x288 with 1 Axes>"
            ]
          },
          "metadata": {
            "needs_background": "light"
          }
        }
      ]
    },
    {
      "cell_type": "code",
      "metadata": {
        "colab": {
          "base_uri": "https://localhost:8080/",
          "height": 283
        },
        "id": "LlPQ0mM1UDnC",
        "outputId": "491f4f0b-dfef-49dc-b482-22b5429f344c"
      },
      "source": [
        "# Polinomal Regresyon\n",
        "from sklearn.preprocessing import PolynomialFeatures\n",
        "\n",
        "pol_reg = PolynomialFeatures(degree = 4)\n",
        "\n",
        "x_pol = pol_reg.fit_transform(X)\n",
        "\n",
        "lin_reg2 = LinearRegression()\n",
        "lin_reg2.fit(x_pol, Y)\n",
        "\n",
        "plt.scatter(X, Y)\n",
        "plt.plot(X, lin_reg2.predict(x_pol), color = 'black')"
      ],
      "execution_count": 12,
      "outputs": [
        {
          "output_type": "execute_result",
          "data": {
            "text/plain": [
              "[<matplotlib.lines.Line2D at 0x7fae9346ba10>]"
            ]
          },
          "metadata": {},
          "execution_count": 12
        },
        {
          "output_type": "display_data",
          "data": {
            "image/png": "[encoded data removed]",
            "text/plain": [
              "<Figure size 432x288 with 1 Axes>"
            ]
          },
          "metadata": {
            "needs_background": "light"
          }
        }
      ]
    },
    {
      "cell_type": "code",
      "metadata": {
        "colab": {
          "base_uri": "https://localhost:8080/",
          "height": 338
        },
        "id": "3ZY3aFm6Uu7q",
        "outputId": "278b6cc3-0798-464b-c8b2-5f4e54b1aa05"
      },
      "source": [
        "#SVR\n",
        "\n",
        "from sklearn.preprocessing import StandardScaler\n",
        "\n",
        "sc1 = StandardScaler()\n",
        "x_scaler = sc1.fit_transform(X)\n",
        "\n",
        "sc2 = StandardScaler()\n",
        "y_scaler = sc2.fit_transform(Y)\n",
        "\n",
        "from sklearn.svm import SVR\n",
        "svr_reg = SVR(kernel = 'rbf')\n",
        "svr_reg.fit(x_scaler, y_scaler)\n",
        "\n",
        "plt.scatter(x_scaler, y_scaler)\n",
        "plt.plot(x_scaler, svr_reg.predict(x_scaler), color = 'green')"
      ],
      "execution_count": 13,
      "outputs": [
        {
          "output_type": "stream",
          "name": "stderr",
          "text": [
            "/usr/local/lib/python3.7/dist-packages/sklearn/utils/validation.py:760: DataConversionWarning: A column-vector y was passed when a 1d array was expected. Please change the shape of y to (n_samples, ), for example using ravel().\n",
            "  y = column_or_1d(y, warn=True)\n"
          ]
        },
        {
          "output_type": "execute_result",
          "data": {
            "text/plain": [
              "[<matplotlib.lines.Line2D at 0x7fae93423510>]"
            ]
          },
          "metadata": {},
          "execution_count": 13
        },
        {
          "output_type": "display_data",
          "data": {
            "image/png": "[encoded data removed]",
            "text/plain": [
              "<Figure size 432x288 with 1 Axes>"
            ]
          },
          "metadata": {
            "needs_background": "light"
          }
        }
      ]
    },
    {
      "cell_type": "code",
      "metadata": {
        "colab": {
          "base_uri": "https://localhost:8080/",
          "height": 283
        },
        "id": "LLMPCpElV6aC",
        "outputId": "42884cc4-14dc-4527-9243-dcaa83e8e14e"
      },
      "source": [
        "# Decision Tree \n",
        "\n",
        "from sklearn.tree import DecisionTreeRegressor\n",
        "\n",
        "dt_reg = DecisionTreeRegressor(random_state =0)\n",
        "dt_reg.fit(X,Y)\n",
        "\n",
        "plt.scatter(X,Y)\n",
        "plt.plot(X, dt_reg.predict(X))"
      ],
      "execution_count": 15,
      "outputs": [
        {
          "output_type": "execute_result",
          "data": {
            "text/plain": [
              "[<matplotlib.lines.Line2D at 0x7fae91963310>]"
            ]
          },
          "metadata": {},
          "execution_count": 15
        },
        {
          "output_type": "display_data",
          "data": {
            "image/png": "[encoded data removed]",
            "text/plain": [
              "<Figure size 432x288 with 1 Axes>"
            ]
          },
          "metadata": {
            "needs_background": "light"
          }
        }
      ]
    },
    {
      "cell_type": "code",
      "metadata": {
        "colab": {
          "base_uri": "https://localhost:8080/",
          "height": 283
        },
        "id": "du5nCWAvWTPj",
        "outputId": "de2e4825-7bbc-4c3c-b56e-ffbd50a6c75f"
      },
      "source": [
        "from sklearn.ensemble import RandomForestRegressor\n",
        "rf_reg = RandomForestRegressor(n_estimators = 10, random_state=0)\n",
        "rf_reg.fit(X, Y.ravel())\n",
        "\n",
        "plt.scatter(X,Y, color='lightgreen')\n",
        "plt.plot(X, rf_reg.predict(X))"
      ],
      "execution_count": 17,
      "outputs": [
        {
          "output_type": "execute_result",
          "data": {
            "text/plain": [
              "[<matplotlib.lines.Line2D at 0x7fae915cca10>]"
            ]
          },
          "metadata": {},
          "execution_count": 17
        },
        {
          "output_type": "display_data",
          "data": {
            "image/png": "[encoded data removed]",
            "text/plain": [
              "<Figure size 432x288 with 1 Axes>"
            ]
          },
          "metadata": {
            "needs_background": "light"
          }
        }
      ]
    },
    {
      "cell_type": "code",
      "metadata": {
        "id": "5p2MmpCWXJZT"
      },
      "source": [
        "from sklearn.metrics import r2_score"
      ],
      "execution_count": 18,
      "outputs": []
    },
    {
      "cell_type": "code",
      "metadata": {
        "colab": {
          "base_uri": "https://localhost:8080/"
        },
        "id": "MvNfEJXqW4WT",
        "outputId": "81529feb-b520-4554-e4fd-0dd5f938a6ee"
      },
      "source": [
        "print('Lineer R-Square')\n",
        "print(r2_score(Y, lin_reg.predict(X)))"
      ],
      "execution_count": 19,
      "outputs": [
        {
          "output_type": "stream",
          "name": "stdout",
          "text": [
            "Lineer R-Square\n",
            "0.6690412331929894\n"
          ]
        }
      ]
    },
    {
      "cell_type": "code",
      "metadata": {
        "colab": {
          "base_uri": "https://localhost:8080/"
        },
        "id": "Us85TYGzXXrt",
        "outputId": "7ce6a8dd-d2ae-465d-c567-5beb45eeac9c"
      },
      "source": [
        "print('Polynomial Reg R-Square')\n",
        "print(r2_score(Y, lin_reg2.predict(pol_reg.fit_transform(X))))"
      ],
      "execution_count": 20,
      "outputs": [
        {
          "output_type": "stream",
          "name": "stdout",
          "text": [
            "Polynomial Reg R-Square\n",
            "0.9973922891706614\n"
          ]
        }
      ]
    },
    {
      "cell_type": "code",
      "metadata": {
        "colab": {
          "base_uri": "https://localhost:8080/"
        },
        "id": "4a1I_m-9Xk7q",
        "outputId": "bd231daa-ca3d-42b4-d9de-7b721a3f34ea"
      },
      "source": [
        "print('SVR R-Square')\n",
        "print(r2_score(y_scaler, svr_reg.predict(x_scaler)))"
      ],
      "execution_count": 21,
      "outputs": [
        {
          "output_type": "stream",
          "name": "stdout",
          "text": [
            "SVR R-Square\n",
            "0.7513836788854973\n"
          ]
        }
      ]
    },
    {
      "cell_type": "code",
      "metadata": {
        "colab": {
          "base_uri": "https://localhost:8080/"
        },
        "id": "uOHv1BO3XurK",
        "outputId": "2a4b39f2-0bdc-4bdd-b776-a67a98b05b99"
      },
      "source": [
        "print('Decision Tree R-Square')\n",
        "print(r2_score(Y, dt_reg.predict(X)))"
      ],
      "execution_count": 22,
      "outputs": [
        {
          "output_type": "stream",
          "name": "stdout",
          "text": [
            "Decision Tree R-Square\n",
            "1.0\n"
          ]
        }
      ]
    },
    {
      "cell_type": "code",
      "metadata": {
        "colab": {
          "base_uri": "https://localhost:8080/"
        },
        "id": "hU7BGeTvX7RM",
        "outputId": "64717882-8857-44b9-fa61-46a9c44c16ab"
      },
      "source": [
        "print('Random Forest R-Square')\n",
        "print(r2_score(Y, dt_reg.predict(X)))"
      ],
      "execution_count": 23,
      "outputs": [
        {
          "output_type": "stream",
          "name": "stdout",
          "text": [
            "Random Forest R-Square\n",
            "1.0\n"
          ]
        }
      ]
    }
  ]
}